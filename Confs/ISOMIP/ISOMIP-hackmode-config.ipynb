{
 "cells": [
  {
   "cell_type": "markdown",
   "id": "563a7679-8fb9-4d64-a260-97a8bb5af795",
   "metadata": {},
   "source": [
    "# Set-up ISOMIP hackmode config\n",
    "\n",
    "Use existing runs ISOMIP_IC\n",
    "\n",
    "Use Hallberg non-Boussinesq dev executable https://github.com/Hallberg-NOAA/MOM6/tree/nonBoussinesq_dev"
   ]
  },
  {
   "cell_type": "code",
   "execution_count": 8,
   "id": "5d356048-c825-4153-b9fe-a754dc611392",
   "metadata": {},
   "outputs": [],
   "source": [
    "#Load required packages\n",
    "%matplotlib inline\n",
    "import matplotlib.pyplot as plt\n",
    "import xarray as xr\n",
    "from xgcm import Grid\n",
    "import numpy as np\n",
    "import pandas as pd\n",
    "import cftime\n",
    "import IPython.display\n",
    "import cmocean as cm\n",
    "import cartopy.crs as ccrs\n",
    "import cartopy.feature as cft\n",
    "import sys, os\n",
    "import warnings\n",
    "warnings.simplefilter(\"ignore\")\n",
    "from dask.distributed import Client\n",
    "\n",
    "from xhistogram.xarray import histogram\n",
    "import netCDF4 as nc\n"
   ]
  },
  {
   "cell_type": "code",
   "execution_count": 2,
   "id": "c5ca4a21-9762-4d16-9a81-2225c56a9440",
   "metadata": {},
   "outputs": [],
   "source": [
    "base_folder = '/home/156/cy8964/mom6-control/MOM6_pge_tests/Confs/ISOMIP/'\n",
    "list_folders = ['zstar-bouss','zstar-nonbouss',\n",
    "                'sigma_shelf_zstar-bouss','sigma_shelf_zstar-nonbouss']"
   ]
  },
  {
   "cell_type": "code",
   "execution_count": 3,
   "id": "8868e961-9ee4-45fa-bf0f-0ba9a49b7e8f",
   "metadata": {},
   "outputs": [],
   "source": [
    "## define some useful functions\n",
    "\n",
    "def open_IC(i):\n",
    "    base = base_folder + list_folders[i]\n",
    "    IC = xr.open_dataset(base + '/archive/output000/ISOMIP_IC.nc')\n",
    "    return IC\n"
   ]
  },
  {
   "cell_type": "code",
   "execution_count": 4,
   "id": "43c6cb0c-22ed-4b23-bf4d-44fe1610b387",
   "metadata": {},
   "outputs": [],
   "source": [
    "no_configs = len(list_folders)"
   ]
  },
  {
   "cell_type": "code",
   "execution_count": 9,
   "id": "cb16a8e6-10ce-44d5-b68f-68ee16c28a41",
   "metadata": {},
   "outputs": [],
   "source": [
    "def make_thickness_file(filename):\n",
    "    \n",
    "    ic = open_IC(i)\n",
    "    _, nz, ny, nx = ic.h.data.shape\n",
    "\n",
    "    new_thick = nc.Dataset(filename, \"w\", format=\"NETCDF4\")\n",
    "    new_thick.createDimension(\"nz\", nz)\n",
    "    new_thick.createDimension(\"ny\", ny)\n",
    "    new_thick.createDimension(\"nx\", nx)\n",
    "    new_thick.createVariable(\"h\",\"f8\",(\"nz\",\"ny\",\"nx\"))\n",
    "\n",
    "    new_thick[\"h\"][:,:,:] = ic.h.data\n",
    "    new_thick.close()\n"
   ]
  },
  {
   "cell_type": "code",
   "execution_count": 10,
   "id": "37bbb860-5d3d-41cf-a1b5-d1248b2a78b3",
   "metadata": {},
   "outputs": [],
   "source": [
    "for i in np.arange(no_configs):\n",
    "    make_thickness_file('/home/156/cy8964/ISOMIP/ISOMIP_thickness_'+list_folders[i]+'.nc')"
   ]
  },
  {
   "cell_type": "markdown",
   "id": "017fcc03-9015-4c27-944c-769c7b8e5545",
   "metadata": {},
   "source": [
    "ISOMIP_thickness_zstar-bouss.nc    \n",
    "ISOMIP_thickness_zstar-nonbouss.nc \n",
    "ISOMIP_thickness_sigma_shelf_zstar-bouss.nc  \n",
    "ISOMIP_thickness_sigma_shelf_zstar-nonbouss.nc  \n",
    "\n",
    "```\n",
    "#override THICKNESS_CONFIG = \"thickness_file\"\n",
    "#override THICKNESS_FILE = \"ISOMIP_thickness_sigma_shelf_zstar-nonbouss.nc\"  ! This is defined in make_thickness.ipynb\n",
    "#override REMAP_AFTER_INITIALIZATION = False\n",
    "#override HACK_MODE = True \n",
    "\n",
    "```"
   ]
  },
  {
   "cell_type": "code",
   "execution_count": null,
   "id": "a1f8f06b-fe53-40f5-852d-94a26e5d7d67",
   "metadata": {},
   "outputs": [],
   "source": []
  }
 ],
 "metadata": {
  "kernelspec": {
   "display_name": "Python [conda env:analysis3-23.07] *",
   "language": "python",
   "name": "conda-env-analysis3-23.07-py"
  },
  "language_info": {
   "codemirror_mode": {
    "name": "ipython",
    "version": 3
   },
   "file_extension": ".py",
   "mimetype": "text/x-python",
   "name": "python",
   "nbconvert_exporter": "python",
   "pygments_lexer": "ipython3",
   "version": "3.10.12"
  }
 },
 "nbformat": 4,
 "nbformat_minor": 5
}
